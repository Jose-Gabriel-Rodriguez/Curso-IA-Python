{
  "cells": [
    {
      "cell_type": "markdown",
      "id": "5e48ec9d-fbfd-4a1c-9c6f-1d1df1a14269",
      "metadata": {
        "id": "5e48ec9d-fbfd-4a1c-9c6f-1d1df1a14269"
      },
      "source": [
        "![image](https://github.com/JoseGabriel-ITD/Probabilidad-y-Estadistica/blob/main/Cintilla2004.png?raw=true)\n",
        "\n",
        "## **Curso de Inteligencia Artificial con Python y Scikit-Learn**\n",
        "### Instructor: Dr. José Gabriel Rodríguez Rivas"
      ]
    },
    {
      "cell_type": "markdown",
      "id": "881870c1-a9de-4f59-a935-ac6b5f91bcce",
      "metadata": {
        "id": "881870c1-a9de-4f59-a935-ac6b5f91bcce"
      },
      "source": [
        "<div style=\"color: blue;\">\n",
        "<h1> Practica 7: Análisis de Componentes Principales (PCA)</h1>\n",
        "</div>\n",
        "\n",
        "\n",
        "##   Reducción de Dimensionalidad mediante PCA\n",
        "\n",
        "La Reducción de Dimensionalidad mediante PCA (Análisis de Componentes Principales) puede ser útil para **simplificar los datos** en el dataset lending_club_2007_2011_6_states **al extraer las características más importantes o reducir la redundancia entre variables**.\n",
        "\n",
        "- T**ransformar un conjunto de variables** posiblemente correlacionadas **en un conjunto más pequeño de variables** no correlacionadas llamadas componentes principales.\n",
        "- Este proceso **ayuda a reducir la complejidad de los datos** mientras se preserva la mayor cantidad posible de información relevante.\n",
        "- Primero, se debe **asegurar que los datos estén escalados y normalizados**. Esto se debe a que el PCA es sensible a las escalas de las variables.\n",
        "\n",
        "**Ejemplo práctico:**\n",
        "Supongamos que tenemos un conjunto de datos con 4 características: altura, peso, edad y nivel de actividad física. Usando PCA, podrías transformar estas 4 características en 2 componentes principales:\n",
        "- **Componente 1 (PC1):** Podría estar influido principalmente por altura y peso, explicando el 70% de la varianza.\n",
        "- **Componente 2 (PC2):** Podría estar más relacionado con la edad y el nivel de actividad física, explicando el 20% de la varianza.\n",
        "- En este caso, el PCA redujo 4 dimensiones a 2, conservando el 90% de la información total."
      ]
    },
    {
      "cell_type": "code",
      "execution_count": 1,
      "id": "6f220962-4653-4823-a5fb-94d5138ac6f3",
      "metadata": {
        "id": "6f220962-4653-4823-a5fb-94d5138ac6f3"
      },
      "outputs": [],
      "source": [
        "import pandas as pd\n",
        "import numpy as np\n",
        "from sklearn.model_selection import train_test_split\n",
        "from sklearn.preprocessing import StandardScaler\n",
        "from sklearn.decomposition import PCA\n",
        "import matplotlib.pyplot as plt"
      ]
    },
    {
      "cell_type": "code",
      "execution_count": 2,
      "id": "a6cc3858-fa1f-46fa-a671-3ca3587c7776",
      "metadata": {
        "colab": {
          "base_uri": "https://localhost:8080/",
          "height": 226
        },
        "id": "a6cc3858-fa1f-46fa-a671-3ca3587c7776",
        "outputId": "12e10fb1-72f0-4ae5-9692-2df9a0b4f2cf"
      },
      "outputs": [
        {
          "output_type": "execute_result",
          "data": {
            "text/plain": [
              "   funded_amnt  loan_term_year  int_rate  grade_code  purpose_code  \\\n",
              "0         2400               3     15.96           2            11   \n",
              "1        10000               3     13.49           2             9   \n",
              "2         3000               3     18.64           4             0   \n",
              "3         5600               5     21.28           5            11   \n",
              "4         5375               5     12.69           1             9   \n",
              "\n",
              "   addr_state_code  home_ownership_code  annual_inc    dti  revol_util  \\\n",
              "0                2                    4       12252   8.72        98.5   \n",
              "1                0                    4       49200  20.00        21.0   \n",
              "2                0                    4       48000   5.35        87.5   \n",
              "3                0                    3       40000   5.55        32.6   \n",
              "4                5                    4       15000  18.08        36.5   \n",
              "\n",
              "   pub_rec_bankruptcies  repaid   total_pymnt  \n",
              "0                     0       1   3005.666844  \n",
              "1                     0       1  12231.890000  \n",
              "2                     0       1   3939.135294  \n",
              "3                     0       0    647.500000  \n",
              "4                     0       0   1484.590000  "
            ],
            "text/html": [
              "\n",
              "  <div id=\"df-e5051b12-99ac-46f8-99ac-52ab7ff34637\" class=\"colab-df-container\">\n",
              "    <div>\n",
              "<style scoped>\n",
              "    .dataframe tbody tr th:only-of-type {\n",
              "        vertical-align: middle;\n",
              "    }\n",
              "\n",
              "    .dataframe tbody tr th {\n",
              "        vertical-align: top;\n",
              "    }\n",
              "\n",
              "    .dataframe thead th {\n",
              "        text-align: right;\n",
              "    }\n",
              "</style>\n",
              "<table border=\"1\" class=\"dataframe\">\n",
              "  <thead>\n",
              "    <tr style=\"text-align: right;\">\n",
              "      <th></th>\n",
              "      <th>funded_amnt</th>\n",
              "      <th>loan_term_year</th>\n",
              "      <th>int_rate</th>\n",
              "      <th>grade_code</th>\n",
              "      <th>purpose_code</th>\n",
              "      <th>addr_state_code</th>\n",
              "      <th>home_ownership_code</th>\n",
              "      <th>annual_inc</th>\n",
              "      <th>dti</th>\n",
              "      <th>revol_util</th>\n",
              "      <th>pub_rec_bankruptcies</th>\n",
              "      <th>repaid</th>\n",
              "      <th>total_pymnt</th>\n",
              "    </tr>\n",
              "  </thead>\n",
              "  <tbody>\n",
              "    <tr>\n",
              "      <th>0</th>\n",
              "      <td>2400</td>\n",
              "      <td>3</td>\n",
              "      <td>15.96</td>\n",
              "      <td>2</td>\n",
              "      <td>11</td>\n",
              "      <td>2</td>\n",
              "      <td>4</td>\n",
              "      <td>12252</td>\n",
              "      <td>8.72</td>\n",
              "      <td>98.5</td>\n",
              "      <td>0</td>\n",
              "      <td>1</td>\n",
              "      <td>3005.666844</td>\n",
              "    </tr>\n",
              "    <tr>\n",
              "      <th>1</th>\n",
              "      <td>10000</td>\n",
              "      <td>3</td>\n",
              "      <td>13.49</td>\n",
              "      <td>2</td>\n",
              "      <td>9</td>\n",
              "      <td>0</td>\n",
              "      <td>4</td>\n",
              "      <td>49200</td>\n",
              "      <td>20.00</td>\n",
              "      <td>21.0</td>\n",
              "      <td>0</td>\n",
              "      <td>1</td>\n",
              "      <td>12231.890000</td>\n",
              "    </tr>\n",
              "    <tr>\n",
              "      <th>2</th>\n",
              "      <td>3000</td>\n",
              "      <td>3</td>\n",
              "      <td>18.64</td>\n",
              "      <td>4</td>\n",
              "      <td>0</td>\n",
              "      <td>0</td>\n",
              "      <td>4</td>\n",
              "      <td>48000</td>\n",
              "      <td>5.35</td>\n",
              "      <td>87.5</td>\n",
              "      <td>0</td>\n",
              "      <td>1</td>\n",
              "      <td>3939.135294</td>\n",
              "    </tr>\n",
              "    <tr>\n",
              "      <th>3</th>\n",
              "      <td>5600</td>\n",
              "      <td>5</td>\n",
              "      <td>21.28</td>\n",
              "      <td>5</td>\n",
              "      <td>11</td>\n",
              "      <td>0</td>\n",
              "      <td>3</td>\n",
              "      <td>40000</td>\n",
              "      <td>5.55</td>\n",
              "      <td>32.6</td>\n",
              "      <td>0</td>\n",
              "      <td>0</td>\n",
              "      <td>647.500000</td>\n",
              "    </tr>\n",
              "    <tr>\n",
              "      <th>4</th>\n",
              "      <td>5375</td>\n",
              "      <td>5</td>\n",
              "      <td>12.69</td>\n",
              "      <td>1</td>\n",
              "      <td>9</td>\n",
              "      <td>5</td>\n",
              "      <td>4</td>\n",
              "      <td>15000</td>\n",
              "      <td>18.08</td>\n",
              "      <td>36.5</td>\n",
              "      <td>0</td>\n",
              "      <td>0</td>\n",
              "      <td>1484.590000</td>\n",
              "    </tr>\n",
              "  </tbody>\n",
              "</table>\n",
              "</div>\n",
              "    <div class=\"colab-df-buttons\">\n",
              "\n",
              "  <div class=\"colab-df-container\">\n",
              "    <button class=\"colab-df-convert\" onclick=\"convertToInteractive('df-e5051b12-99ac-46f8-99ac-52ab7ff34637')\"\n",
              "            title=\"Convert this dataframe to an interactive table.\"\n",
              "            style=\"display:none;\">\n",
              "\n",
              "  <svg xmlns=\"http://www.w3.org/2000/svg\" height=\"24px\" viewBox=\"0 -960 960 960\">\n",
              "    <path d=\"M120-120v-720h720v720H120Zm60-500h600v-160H180v160Zm220 220h160v-160H400v160Zm0 220h160v-160H400v160ZM180-400h160v-160H180v160Zm440 0h160v-160H620v160ZM180-180h160v-160H180v160Zm440 0h160v-160H620v160Z\"/>\n",
              "  </svg>\n",
              "    </button>\n",
              "\n",
              "  <style>\n",
              "    .colab-df-container {\n",
              "      display:flex;\n",
              "      gap: 12px;\n",
              "    }\n",
              "\n",
              "    .colab-df-convert {\n",
              "      background-color: #E8F0FE;\n",
              "      border: none;\n",
              "      border-radius: 50%;\n",
              "      cursor: pointer;\n",
              "      display: none;\n",
              "      fill: #1967D2;\n",
              "      height: 32px;\n",
              "      padding: 0 0 0 0;\n",
              "      width: 32px;\n",
              "    }\n",
              "\n",
              "    .colab-df-convert:hover {\n",
              "      background-color: #E2EBFA;\n",
              "      box-shadow: 0px 1px 2px rgba(60, 64, 67, 0.3), 0px 1px 3px 1px rgba(60, 64, 67, 0.15);\n",
              "      fill: #174EA6;\n",
              "    }\n",
              "\n",
              "    .colab-df-buttons div {\n",
              "      margin-bottom: 4px;\n",
              "    }\n",
              "\n",
              "    [theme=dark] .colab-df-convert {\n",
              "      background-color: #3B4455;\n",
              "      fill: #D2E3FC;\n",
              "    }\n",
              "\n",
              "    [theme=dark] .colab-df-convert:hover {\n",
              "      background-color: #434B5C;\n",
              "      box-shadow: 0px 1px 3px 1px rgba(0, 0, 0, 0.15);\n",
              "      filter: drop-shadow(0px 1px 2px rgba(0, 0, 0, 0.3));\n",
              "      fill: #FFFFFF;\n",
              "    }\n",
              "  </style>\n",
              "\n",
              "    <script>\n",
              "      const buttonEl =\n",
              "        document.querySelector('#df-e5051b12-99ac-46f8-99ac-52ab7ff34637 button.colab-df-convert');\n",
              "      buttonEl.style.display =\n",
              "        google.colab.kernel.accessAllowed ? 'block' : 'none';\n",
              "\n",
              "      async function convertToInteractive(key) {\n",
              "        const element = document.querySelector('#df-e5051b12-99ac-46f8-99ac-52ab7ff34637');\n",
              "        const dataTable =\n",
              "          await google.colab.kernel.invokeFunction('convertToInteractive',\n",
              "                                                    [key], {});\n",
              "        if (!dataTable) return;\n",
              "\n",
              "        const docLinkHtml = 'Like what you see? Visit the ' +\n",
              "          '<a target=\"_blank\" href=https://colab.research.google.com/notebooks/data_table.ipynb>data table notebook</a>'\n",
              "          + ' to learn more about interactive tables.';\n",
              "        element.innerHTML = '';\n",
              "        dataTable['output_type'] = 'display_data';\n",
              "        await google.colab.output.renderOutput(dataTable, element);\n",
              "        const docLink = document.createElement('div');\n",
              "        docLink.innerHTML = docLinkHtml;\n",
              "        element.appendChild(docLink);\n",
              "      }\n",
              "    </script>\n",
              "  </div>\n",
              "\n",
              "\n",
              "<div id=\"df-593bab1f-deb3-432f-98e0-80a86837e813\">\n",
              "  <button class=\"colab-df-quickchart\" onclick=\"quickchart('df-593bab1f-deb3-432f-98e0-80a86837e813')\"\n",
              "            title=\"Suggest charts\"\n",
              "            style=\"display:none;\">\n",
              "\n",
              "<svg xmlns=\"http://www.w3.org/2000/svg\" height=\"24px\"viewBox=\"0 0 24 24\"\n",
              "     width=\"24px\">\n",
              "    <g>\n",
              "        <path d=\"M19 3H5c-1.1 0-2 .9-2 2v14c0 1.1.9 2 2 2h14c1.1 0 2-.9 2-2V5c0-1.1-.9-2-2-2zM9 17H7v-7h2v7zm4 0h-2V7h2v10zm4 0h-2v-4h2v4z\"/>\n",
              "    </g>\n",
              "</svg>\n",
              "  </button>\n",
              "\n",
              "<style>\n",
              "  .colab-df-quickchart {\n",
              "      --bg-color: #E8F0FE;\n",
              "      --fill-color: #1967D2;\n",
              "      --hover-bg-color: #E2EBFA;\n",
              "      --hover-fill-color: #174EA6;\n",
              "      --disabled-fill-color: #AAA;\n",
              "      --disabled-bg-color: #DDD;\n",
              "  }\n",
              "\n",
              "  [theme=dark] .colab-df-quickchart {\n",
              "      --bg-color: #3B4455;\n",
              "      --fill-color: #D2E3FC;\n",
              "      --hover-bg-color: #434B5C;\n",
              "      --hover-fill-color: #FFFFFF;\n",
              "      --disabled-bg-color: #3B4455;\n",
              "      --disabled-fill-color: #666;\n",
              "  }\n",
              "\n",
              "  .colab-df-quickchart {\n",
              "    background-color: var(--bg-color);\n",
              "    border: none;\n",
              "    border-radius: 50%;\n",
              "    cursor: pointer;\n",
              "    display: none;\n",
              "    fill: var(--fill-color);\n",
              "    height: 32px;\n",
              "    padding: 0;\n",
              "    width: 32px;\n",
              "  }\n",
              "\n",
              "  .colab-df-quickchart:hover {\n",
              "    background-color: var(--hover-bg-color);\n",
              "    box-shadow: 0 1px 2px rgba(60, 64, 67, 0.3), 0 1px 3px 1px rgba(60, 64, 67, 0.15);\n",
              "    fill: var(--button-hover-fill-color);\n",
              "  }\n",
              "\n",
              "  .colab-df-quickchart-complete:disabled,\n",
              "  .colab-df-quickchart-complete:disabled:hover {\n",
              "    background-color: var(--disabled-bg-color);\n",
              "    fill: var(--disabled-fill-color);\n",
              "    box-shadow: none;\n",
              "  }\n",
              "\n",
              "  .colab-df-spinner {\n",
              "    border: 2px solid var(--fill-color);\n",
              "    border-color: transparent;\n",
              "    border-bottom-color: var(--fill-color);\n",
              "    animation:\n",
              "      spin 1s steps(1) infinite;\n",
              "  }\n",
              "\n",
              "  @keyframes spin {\n",
              "    0% {\n",
              "      border-color: transparent;\n",
              "      border-bottom-color: var(--fill-color);\n",
              "      border-left-color: var(--fill-color);\n",
              "    }\n",
              "    20% {\n",
              "      border-color: transparent;\n",
              "      border-left-color: var(--fill-color);\n",
              "      border-top-color: var(--fill-color);\n",
              "    }\n",
              "    30% {\n",
              "      border-color: transparent;\n",
              "      border-left-color: var(--fill-color);\n",
              "      border-top-color: var(--fill-color);\n",
              "      border-right-color: var(--fill-color);\n",
              "    }\n",
              "    40% {\n",
              "      border-color: transparent;\n",
              "      border-right-color: var(--fill-color);\n",
              "      border-top-color: var(--fill-color);\n",
              "    }\n",
              "    60% {\n",
              "      border-color: transparent;\n",
              "      border-right-color: var(--fill-color);\n",
              "    }\n",
              "    80% {\n",
              "      border-color: transparent;\n",
              "      border-right-color: var(--fill-color);\n",
              "      border-bottom-color: var(--fill-color);\n",
              "    }\n",
              "    90% {\n",
              "      border-color: transparent;\n",
              "      border-bottom-color: var(--fill-color);\n",
              "    }\n",
              "  }\n",
              "</style>\n",
              "\n",
              "  <script>\n",
              "    async function quickchart(key) {\n",
              "      const quickchartButtonEl =\n",
              "        document.querySelector('#' + key + ' button');\n",
              "      quickchartButtonEl.disabled = true;  // To prevent multiple clicks.\n",
              "      quickchartButtonEl.classList.add('colab-df-spinner');\n",
              "      try {\n",
              "        const charts = await google.colab.kernel.invokeFunction(\n",
              "            'suggestCharts', [key], {});\n",
              "      } catch (error) {\n",
              "        console.error('Error during call to suggestCharts:', error);\n",
              "      }\n",
              "      quickchartButtonEl.classList.remove('colab-df-spinner');\n",
              "      quickchartButtonEl.classList.add('colab-df-quickchart-complete');\n",
              "    }\n",
              "    (() => {\n",
              "      let quickchartButtonEl =\n",
              "        document.querySelector('#df-593bab1f-deb3-432f-98e0-80a86837e813 button');\n",
              "      quickchartButtonEl.style.display =\n",
              "        google.colab.kernel.accessAllowed ? 'block' : 'none';\n",
              "    })();\n",
              "  </script>\n",
              "</div>\n",
              "\n",
              "    </div>\n",
              "  </div>\n"
            ],
            "application/vnd.google.colaboratory.intrinsic+json": {
              "type": "dataframe",
              "variable_name": "prestamos",
              "summary": "{\n  \"name\": \"prestamos\",\n  \"rows\": 19908,\n  \"fields\": [\n    {\n      \"column\": \"funded_amnt\",\n      \"properties\": {\n        \"dtype\": \"number\",\n        \"std\": 7176,\n        \"min\": 500,\n        \"max\": 35000,\n        \"num_unique_values\": 894,\n        \"samples\": [\n          22125,\n          8100,\n          9475\n        ],\n        \"semantic_type\": \"\",\n        \"description\": \"\"\n      }\n    },\n    {\n      \"column\": \"loan_term_year\",\n      \"properties\": {\n        \"dtype\": \"number\",\n        \"std\": 0,\n        \"min\": 3,\n        \"max\": 5,\n        \"num_unique_values\": 2,\n        \"samples\": [\n          5,\n          3\n        ],\n        \"semantic_type\": \"\",\n        \"description\": \"\"\n      }\n    },\n    {\n      \"column\": \"int_rate\",\n      \"properties\": {\n        \"dtype\": \"number\",\n        \"std\": 3.6982866937122374,\n        \"min\": 5.42,\n        \"max\": 24.4,\n        \"num_unique_values\": 353,\n        \"samples\": [\n          18.43,\n          8.49\n        ],\n        \"semantic_type\": \"\",\n        \"description\": \"\"\n      }\n    },\n    {\n      \"column\": \"grade_code\",\n      \"properties\": {\n        \"dtype\": \"number\",\n        \"std\": 1,\n        \"min\": 0,\n        \"max\": 6,\n        \"num_unique_values\": 7,\n        \"samples\": [\n          2,\n          4\n        ],\n        \"semantic_type\": \"\",\n        \"description\": \"\"\n      }\n    },\n    {\n      \"column\": \"purpose_code\",\n      \"properties\": {\n        \"dtype\": \"number\",\n        \"std\": 3,\n        \"min\": 0,\n        \"max\": 13,\n        \"num_unique_values\": 14,\n        \"samples\": [\n          5,\n          13\n        ],\n        \"semantic_type\": \"\",\n        \"description\": \"\"\n      }\n    },\n    {\n      \"column\": \"addr_state_code\",\n      \"properties\": {\n        \"dtype\": \"number\",\n        \"std\": 1,\n        \"min\": 0,\n        \"max\": 5,\n        \"num_unique_values\": 6,\n        \"samples\": [\n          2,\n          0\n        ],\n        \"semantic_type\": \"\",\n        \"description\": \"\"\n      }\n    },\n    {\n      \"column\": \"home_ownership_code\",\n      \"properties\": {\n        \"dtype\": \"number\",\n        \"std\": 1,\n        \"min\": 0,\n        \"max\": 4,\n        \"num_unique_values\": 5,\n        \"samples\": [\n          3,\n          1\n        ],\n        \"semantic_type\": \"\",\n        \"description\": \"\"\n      }\n    },\n    {\n      \"column\": \"annual_inc\",\n      \"properties\": {\n        \"dtype\": \"number\",\n        \"std\": 69805,\n        \"min\": 4000,\n        \"max\": 6000000,\n        \"num_unique_values\": 2996,\n        \"samples\": [\n          132652,\n          122880\n        ],\n        \"semantic_type\": \"\",\n        \"description\": \"\"\n      }\n    },\n    {\n      \"column\": \"dti\",\n      \"properties\": {\n        \"dtype\": \"number\",\n        \"std\": 6.6636580799903085,\n        \"min\": 0.0,\n        \"max\": 29.99,\n        \"num_unique_values\": 2710,\n        \"samples\": [\n          0.82,\n          9.37\n        ],\n        \"semantic_type\": \"\",\n        \"description\": \"\"\n      }\n    },\n    {\n      \"column\": \"revol_util\",\n      \"properties\": {\n        \"dtype\": \"number\",\n        \"std\": 28.18493540429924,\n        \"min\": 0.0,\n        \"max\": 99.9,\n        \"num_unique_values\": 1053,\n        \"samples\": [\n          95.4,\n          1.4\n        ],\n        \"semantic_type\": \"\",\n        \"description\": \"\"\n      }\n    },\n    {\n      \"column\": \"pub_rec_bankruptcies\",\n      \"properties\": {\n        \"dtype\": \"number\",\n        \"std\": 0,\n        \"min\": 0,\n        \"max\": 2,\n        \"num_unique_values\": 3,\n        \"samples\": [\n          0,\n          1\n        ],\n        \"semantic_type\": \"\",\n        \"description\": \"\"\n      }\n    },\n    {\n      \"column\": \"repaid\",\n      \"properties\": {\n        \"dtype\": \"number\",\n        \"std\": 0,\n        \"min\": 0,\n        \"max\": 1,\n        \"num_unique_values\": 2,\n        \"samples\": [\n          0,\n          1\n        ],\n        \"semantic_type\": \"\",\n        \"description\": \"\"\n      }\n    },\n    {\n      \"column\": \"total_pymnt\",\n      \"properties\": {\n        \"dtype\": \"number\",\n        \"std\": 9098.847567162104,\n        \"min\": 0.0,\n        \"max\": 58480.13992,\n        \"num_unique_values\": 19455,\n        \"samples\": [\n          25108.71986,\n          2656.740246\n        ],\n        \"semantic_type\": \"\",\n        \"description\": \"\"\n      }\n    }\n  ]\n}"
            }
          },
          "metadata": {},
          "execution_count": 2
        }
      ],
      "source": [
        "# Cargar el dataset\n",
        "prestamos = pd.read_csv(\"prestamos.csv\")\n",
        "# Exploración rápida\n",
        "prestamos.head()"
      ]
    },
    {
      "cell_type": "code",
      "execution_count": 3,
      "id": "3f7d64ac-946f-4f0e-bb70-03d91e59008e",
      "metadata": {
        "colab": {
          "base_uri": "https://localhost:8080/",
          "height": 226
        },
        "id": "3f7d64ac-946f-4f0e-bb70-03d91e59008e",
        "outputId": "c6051560-c981-4f1d-8d5d-8214f18bd4b1"
      },
      "outputs": [
        {
          "output_type": "execute_result",
          "data": {
            "text/plain": [
              "   funded_amnt  int_rate  grade_code  purpose_code  addr_state_code  \\\n",
              "0         2400     15.96           2            11                2   \n",
              "1        10000     13.49           2             9                0   \n",
              "2         3000     18.64           4             0                0   \n",
              "3         5600     21.28           5            11                0   \n",
              "4         5375     12.69           1             9                5   \n",
              "\n",
              "   home_ownership_code  annual_inc    dti  revol_util  pub_rec_bankruptcies  \n",
              "0                    4       12252   8.72        98.5                     0  \n",
              "1                    4       49200  20.00        21.0                     0  \n",
              "2                    4       48000   5.35        87.5                     0  \n",
              "3                    3       40000   5.55        32.6                     0  \n",
              "4                    4       15000  18.08        36.5                     0  "
            ],
            "text/html": [
              "\n",
              "  <div id=\"df-70edb6c0-8ef7-4c51-a544-f3b16ab7e07d\" class=\"colab-df-container\">\n",
              "    <div>\n",
              "<style scoped>\n",
              "    .dataframe tbody tr th:only-of-type {\n",
              "        vertical-align: middle;\n",
              "    }\n",
              "\n",
              "    .dataframe tbody tr th {\n",
              "        vertical-align: top;\n",
              "    }\n",
              "\n",
              "    .dataframe thead th {\n",
              "        text-align: right;\n",
              "    }\n",
              "</style>\n",
              "<table border=\"1\" class=\"dataframe\">\n",
              "  <thead>\n",
              "    <tr style=\"text-align: right;\">\n",
              "      <th></th>\n",
              "      <th>funded_amnt</th>\n",
              "      <th>int_rate</th>\n",
              "      <th>grade_code</th>\n",
              "      <th>purpose_code</th>\n",
              "      <th>addr_state_code</th>\n",
              "      <th>home_ownership_code</th>\n",
              "      <th>annual_inc</th>\n",
              "      <th>dti</th>\n",
              "      <th>revol_util</th>\n",
              "      <th>pub_rec_bankruptcies</th>\n",
              "    </tr>\n",
              "  </thead>\n",
              "  <tbody>\n",
              "    <tr>\n",
              "      <th>0</th>\n",
              "      <td>2400</td>\n",
              "      <td>15.96</td>\n",
              "      <td>2</td>\n",
              "      <td>11</td>\n",
              "      <td>2</td>\n",
              "      <td>4</td>\n",
              "      <td>12252</td>\n",
              "      <td>8.72</td>\n",
              "      <td>98.5</td>\n",
              "      <td>0</td>\n",
              "    </tr>\n",
              "    <tr>\n",
              "      <th>1</th>\n",
              "      <td>10000</td>\n",
              "      <td>13.49</td>\n",
              "      <td>2</td>\n",
              "      <td>9</td>\n",
              "      <td>0</td>\n",
              "      <td>4</td>\n",
              "      <td>49200</td>\n",
              "      <td>20.00</td>\n",
              "      <td>21.0</td>\n",
              "      <td>0</td>\n",
              "    </tr>\n",
              "    <tr>\n",
              "      <th>2</th>\n",
              "      <td>3000</td>\n",
              "      <td>18.64</td>\n",
              "      <td>4</td>\n",
              "      <td>0</td>\n",
              "      <td>0</td>\n",
              "      <td>4</td>\n",
              "      <td>48000</td>\n",
              "      <td>5.35</td>\n",
              "      <td>87.5</td>\n",
              "      <td>0</td>\n",
              "    </tr>\n",
              "    <tr>\n",
              "      <th>3</th>\n",
              "      <td>5600</td>\n",
              "      <td>21.28</td>\n",
              "      <td>5</td>\n",
              "      <td>11</td>\n",
              "      <td>0</td>\n",
              "      <td>3</td>\n",
              "      <td>40000</td>\n",
              "      <td>5.55</td>\n",
              "      <td>32.6</td>\n",
              "      <td>0</td>\n",
              "    </tr>\n",
              "    <tr>\n",
              "      <th>4</th>\n",
              "      <td>5375</td>\n",
              "      <td>12.69</td>\n",
              "      <td>1</td>\n",
              "      <td>9</td>\n",
              "      <td>5</td>\n",
              "      <td>4</td>\n",
              "      <td>15000</td>\n",
              "      <td>18.08</td>\n",
              "      <td>36.5</td>\n",
              "      <td>0</td>\n",
              "    </tr>\n",
              "  </tbody>\n",
              "</table>\n",
              "</div>\n",
              "    <div class=\"colab-df-buttons\">\n",
              "\n",
              "  <div class=\"colab-df-container\">\n",
              "    <button class=\"colab-df-convert\" onclick=\"convertToInteractive('df-70edb6c0-8ef7-4c51-a544-f3b16ab7e07d')\"\n",
              "            title=\"Convert this dataframe to an interactive table.\"\n",
              "            style=\"display:none;\">\n",
              "\n",
              "  <svg xmlns=\"http://www.w3.org/2000/svg\" height=\"24px\" viewBox=\"0 -960 960 960\">\n",
              "    <path d=\"M120-120v-720h720v720H120Zm60-500h600v-160H180v160Zm220 220h160v-160H400v160Zm0 220h160v-160H400v160ZM180-400h160v-160H180v160Zm440 0h160v-160H620v160ZM180-180h160v-160H180v160Zm440 0h160v-160H620v160Z\"/>\n",
              "  </svg>\n",
              "    </button>\n",
              "\n",
              "  <style>\n",
              "    .colab-df-container {\n",
              "      display:flex;\n",
              "      gap: 12px;\n",
              "    }\n",
              "\n",
              "    .colab-df-convert {\n",
              "      background-color: #E8F0FE;\n",
              "      border: none;\n",
              "      border-radius: 50%;\n",
              "      cursor: pointer;\n",
              "      display: none;\n",
              "      fill: #1967D2;\n",
              "      height: 32px;\n",
              "      padding: 0 0 0 0;\n",
              "      width: 32px;\n",
              "    }\n",
              "\n",
              "    .colab-df-convert:hover {\n",
              "      background-color: #E2EBFA;\n",
              "      box-shadow: 0px 1px 2px rgba(60, 64, 67, 0.3), 0px 1px 3px 1px rgba(60, 64, 67, 0.15);\n",
              "      fill: #174EA6;\n",
              "    }\n",
              "\n",
              "    .colab-df-buttons div {\n",
              "      margin-bottom: 4px;\n",
              "    }\n",
              "\n",
              "    [theme=dark] .colab-df-convert {\n",
              "      background-color: #3B4455;\n",
              "      fill: #D2E3FC;\n",
              "    }\n",
              "\n",
              "    [theme=dark] .colab-df-convert:hover {\n",
              "      background-color: #434B5C;\n",
              "      box-shadow: 0px 1px 3px 1px rgba(0, 0, 0, 0.15);\n",
              "      filter: drop-shadow(0px 1px 2px rgba(0, 0, 0, 0.3));\n",
              "      fill: #FFFFFF;\n",
              "    }\n",
              "  </style>\n",
              "\n",
              "    <script>\n",
              "      const buttonEl =\n",
              "        document.querySelector('#df-70edb6c0-8ef7-4c51-a544-f3b16ab7e07d button.colab-df-convert');\n",
              "      buttonEl.style.display =\n",
              "        google.colab.kernel.accessAllowed ? 'block' : 'none';\n",
              "\n",
              "      async function convertToInteractive(key) {\n",
              "        const element = document.querySelector('#df-70edb6c0-8ef7-4c51-a544-f3b16ab7e07d');\n",
              "        const dataTable =\n",
              "          await google.colab.kernel.invokeFunction('convertToInteractive',\n",
              "                                                    [key], {});\n",
              "        if (!dataTable) return;\n",
              "\n",
              "        const docLinkHtml = 'Like what you see? Visit the ' +\n",
              "          '<a target=\"_blank\" href=https://colab.research.google.com/notebooks/data_table.ipynb>data table notebook</a>'\n",
              "          + ' to learn more about interactive tables.';\n",
              "        element.innerHTML = '';\n",
              "        dataTable['output_type'] = 'display_data';\n",
              "        await google.colab.output.renderOutput(dataTable, element);\n",
              "        const docLink = document.createElement('div');\n",
              "        docLink.innerHTML = docLinkHtml;\n",
              "        element.appendChild(docLink);\n",
              "      }\n",
              "    </script>\n",
              "  </div>\n",
              "\n",
              "\n",
              "<div id=\"df-625644e4-9cbd-4fbd-89cb-1ce6ef723740\">\n",
              "  <button class=\"colab-df-quickchart\" onclick=\"quickchart('df-625644e4-9cbd-4fbd-89cb-1ce6ef723740')\"\n",
              "            title=\"Suggest charts\"\n",
              "            style=\"display:none;\">\n",
              "\n",
              "<svg xmlns=\"http://www.w3.org/2000/svg\" height=\"24px\"viewBox=\"0 0 24 24\"\n",
              "     width=\"24px\">\n",
              "    <g>\n",
              "        <path d=\"M19 3H5c-1.1 0-2 .9-2 2v14c0 1.1.9 2 2 2h14c1.1 0 2-.9 2-2V5c0-1.1-.9-2-2-2zM9 17H7v-7h2v7zm4 0h-2V7h2v10zm4 0h-2v-4h2v4z\"/>\n",
              "    </g>\n",
              "</svg>\n",
              "  </button>\n",
              "\n",
              "<style>\n",
              "  .colab-df-quickchart {\n",
              "      --bg-color: #E8F0FE;\n",
              "      --fill-color: #1967D2;\n",
              "      --hover-bg-color: #E2EBFA;\n",
              "      --hover-fill-color: #174EA6;\n",
              "      --disabled-fill-color: #AAA;\n",
              "      --disabled-bg-color: #DDD;\n",
              "  }\n",
              "\n",
              "  [theme=dark] .colab-df-quickchart {\n",
              "      --bg-color: #3B4455;\n",
              "      --fill-color: #D2E3FC;\n",
              "      --hover-bg-color: #434B5C;\n",
              "      --hover-fill-color: #FFFFFF;\n",
              "      --disabled-bg-color: #3B4455;\n",
              "      --disabled-fill-color: #666;\n",
              "  }\n",
              "\n",
              "  .colab-df-quickchart {\n",
              "    background-color: var(--bg-color);\n",
              "    border: none;\n",
              "    border-radius: 50%;\n",
              "    cursor: pointer;\n",
              "    display: none;\n",
              "    fill: var(--fill-color);\n",
              "    height: 32px;\n",
              "    padding: 0;\n",
              "    width: 32px;\n",
              "  }\n",
              "\n",
              "  .colab-df-quickchart:hover {\n",
              "    background-color: var(--hover-bg-color);\n",
              "    box-shadow: 0 1px 2px rgba(60, 64, 67, 0.3), 0 1px 3px 1px rgba(60, 64, 67, 0.15);\n",
              "    fill: var(--button-hover-fill-color);\n",
              "  }\n",
              "\n",
              "  .colab-df-quickchart-complete:disabled,\n",
              "  .colab-df-quickchart-complete:disabled:hover {\n",
              "    background-color: var(--disabled-bg-color);\n",
              "    fill: var(--disabled-fill-color);\n",
              "    box-shadow: none;\n",
              "  }\n",
              "\n",
              "  .colab-df-spinner {\n",
              "    border: 2px solid var(--fill-color);\n",
              "    border-color: transparent;\n",
              "    border-bottom-color: var(--fill-color);\n",
              "    animation:\n",
              "      spin 1s steps(1) infinite;\n",
              "  }\n",
              "\n",
              "  @keyframes spin {\n",
              "    0% {\n",
              "      border-color: transparent;\n",
              "      border-bottom-color: var(--fill-color);\n",
              "      border-left-color: var(--fill-color);\n",
              "    }\n",
              "    20% {\n",
              "      border-color: transparent;\n",
              "      border-left-color: var(--fill-color);\n",
              "      border-top-color: var(--fill-color);\n",
              "    }\n",
              "    30% {\n",
              "      border-color: transparent;\n",
              "      border-left-color: var(--fill-color);\n",
              "      border-top-color: var(--fill-color);\n",
              "      border-right-color: var(--fill-color);\n",
              "    }\n",
              "    40% {\n",
              "      border-color: transparent;\n",
              "      border-right-color: var(--fill-color);\n",
              "      border-top-color: var(--fill-color);\n",
              "    }\n",
              "    60% {\n",
              "      border-color: transparent;\n",
              "      border-right-color: var(--fill-color);\n",
              "    }\n",
              "    80% {\n",
              "      border-color: transparent;\n",
              "      border-right-color: var(--fill-color);\n",
              "      border-bottom-color: var(--fill-color);\n",
              "    }\n",
              "    90% {\n",
              "      border-color: transparent;\n",
              "      border-bottom-color: var(--fill-color);\n",
              "    }\n",
              "  }\n",
              "</style>\n",
              "\n",
              "  <script>\n",
              "    async function quickchart(key) {\n",
              "      const quickchartButtonEl =\n",
              "        document.querySelector('#' + key + ' button');\n",
              "      quickchartButtonEl.disabled = true;  // To prevent multiple clicks.\n",
              "      quickchartButtonEl.classList.add('colab-df-spinner');\n",
              "      try {\n",
              "        const charts = await google.colab.kernel.invokeFunction(\n",
              "            'suggestCharts', [key], {});\n",
              "      } catch (error) {\n",
              "        console.error('Error during call to suggestCharts:', error);\n",
              "      }\n",
              "      quickchartButtonEl.classList.remove('colab-df-spinner');\n",
              "      quickchartButtonEl.classList.add('colab-df-quickchart-complete');\n",
              "    }\n",
              "    (() => {\n",
              "      let quickchartButtonEl =\n",
              "        document.querySelector('#df-625644e4-9cbd-4fbd-89cb-1ce6ef723740 button');\n",
              "      quickchartButtonEl.style.display =\n",
              "        google.colab.kernel.accessAllowed ? 'block' : 'none';\n",
              "    })();\n",
              "  </script>\n",
              "</div>\n",
              "\n",
              "    </div>\n",
              "  </div>\n"
            ],
            "application/vnd.google.colaboratory.intrinsic+json": {
              "type": "dataframe",
              "variable_name": "X",
              "summary": "{\n  \"name\": \"X\",\n  \"rows\": 19908,\n  \"fields\": [\n    {\n      \"column\": \"funded_amnt\",\n      \"properties\": {\n        \"dtype\": \"number\",\n        \"std\": 7176,\n        \"min\": 500,\n        \"max\": 35000,\n        \"num_unique_values\": 894,\n        \"samples\": [\n          22125,\n          8100,\n          9475\n        ],\n        \"semantic_type\": \"\",\n        \"description\": \"\"\n      }\n    },\n    {\n      \"column\": \"int_rate\",\n      \"properties\": {\n        \"dtype\": \"number\",\n        \"std\": 3.6982866937122374,\n        \"min\": 5.42,\n        \"max\": 24.4,\n        \"num_unique_values\": 353,\n        \"samples\": [\n          18.43,\n          8.49,\n          16.0\n        ],\n        \"semantic_type\": \"\",\n        \"description\": \"\"\n      }\n    },\n    {\n      \"column\": \"grade_code\",\n      \"properties\": {\n        \"dtype\": \"number\",\n        \"std\": 1,\n        \"min\": 0,\n        \"max\": 6,\n        \"num_unique_values\": 7,\n        \"samples\": [\n          2,\n          4,\n          3\n        ],\n        \"semantic_type\": \"\",\n        \"description\": \"\"\n      }\n    },\n    {\n      \"column\": \"purpose_code\",\n      \"properties\": {\n        \"dtype\": \"number\",\n        \"std\": 3,\n        \"min\": 0,\n        \"max\": 13,\n        \"num_unique_values\": 14,\n        \"samples\": [\n          5,\n          13,\n          11\n        ],\n        \"semantic_type\": \"\",\n        \"description\": \"\"\n      }\n    },\n    {\n      \"column\": \"addr_state_code\",\n      \"properties\": {\n        \"dtype\": \"number\",\n        \"std\": 1,\n        \"min\": 0,\n        \"max\": 5,\n        \"num_unique_values\": 6,\n        \"samples\": [\n          2,\n          0,\n          3\n        ],\n        \"semantic_type\": \"\",\n        \"description\": \"\"\n      }\n    },\n    {\n      \"column\": \"home_ownership_code\",\n      \"properties\": {\n        \"dtype\": \"number\",\n        \"std\": 1,\n        \"min\": 0,\n        \"max\": 4,\n        \"num_unique_values\": 5,\n        \"samples\": [\n          3,\n          1,\n          0\n        ],\n        \"semantic_type\": \"\",\n        \"description\": \"\"\n      }\n    },\n    {\n      \"column\": \"annual_inc\",\n      \"properties\": {\n        \"dtype\": \"number\",\n        \"std\": 69805,\n        \"min\": 4000,\n        \"max\": 6000000,\n        \"num_unique_values\": 2996,\n        \"samples\": [\n          132652,\n          122880,\n          50132\n        ],\n        \"semantic_type\": \"\",\n        \"description\": \"\"\n      }\n    },\n    {\n      \"column\": \"dti\",\n      \"properties\": {\n        \"dtype\": \"number\",\n        \"std\": 6.6636580799903085,\n        \"min\": 0.0,\n        \"max\": 29.99,\n        \"num_unique_values\": 2710,\n        \"samples\": [\n          0.82,\n          9.37,\n          6.78\n        ],\n        \"semantic_type\": \"\",\n        \"description\": \"\"\n      }\n    },\n    {\n      \"column\": \"revol_util\",\n      \"properties\": {\n        \"dtype\": \"number\",\n        \"std\": 28.18493540429924,\n        \"min\": 0.0,\n        \"max\": 99.9,\n        \"num_unique_values\": 1053,\n        \"samples\": [\n          95.4,\n          1.4,\n          10.8\n        ],\n        \"semantic_type\": \"\",\n        \"description\": \"\"\n      }\n    },\n    {\n      \"column\": \"pub_rec_bankruptcies\",\n      \"properties\": {\n        \"dtype\": \"number\",\n        \"std\": 0,\n        \"min\": 0,\n        \"max\": 2,\n        \"num_unique_values\": 3,\n        \"samples\": [\n          0,\n          1,\n          2\n        ],\n        \"semantic_type\": \"\",\n        \"description\": \"\"\n      }\n    }\n  ]\n}"
            }
          },
          "metadata": {},
          "execution_count": 3
        }
      ],
      "source": [
        "model_columns = ['funded_amnt', \"int_rate\", \"grade_code\", 'purpose_code',\n",
        "                 'addr_state_code',\n",
        "                 'home_ownership_code', 'annual_inc', 'dti', 'revol_util',\n",
        "                 'pub_rec_bankruptcies']\n",
        "\n",
        "X = prestamos[model_columns]\n",
        "X.head()"
      ]
    },
    {
      "cell_type": "code",
      "execution_count": 4,
      "id": "f578b283-5142-4dfc-ba10-c988f1cea8b6",
      "metadata": {
        "colab": {
          "base_uri": "https://localhost:8080/",
          "height": 240
        },
        "id": "f578b283-5142-4dfc-ba10-c988f1cea8b6",
        "outputId": "fcbf2507-d92f-44ce-e45f-bb462ce3f2de"
      },
      "outputs": [
        {
          "output_type": "execute_result",
          "data": {
            "text/plain": [
              "0    1\n",
              "1    1\n",
              "2    1\n",
              "3    0\n",
              "4    0\n",
              "Name: repaid, dtype: int64"
            ],
            "text/html": [
              "<div>\n",
              "<style scoped>\n",
              "    .dataframe tbody tr th:only-of-type {\n",
              "        vertical-align: middle;\n",
              "    }\n",
              "\n",
              "    .dataframe tbody tr th {\n",
              "        vertical-align: top;\n",
              "    }\n",
              "\n",
              "    .dataframe thead th {\n",
              "        text-align: right;\n",
              "    }\n",
              "</style>\n",
              "<table border=\"1\" class=\"dataframe\">\n",
              "  <thead>\n",
              "    <tr style=\"text-align: right;\">\n",
              "      <th></th>\n",
              "      <th>repaid</th>\n",
              "    </tr>\n",
              "  </thead>\n",
              "  <tbody>\n",
              "    <tr>\n",
              "      <th>0</th>\n",
              "      <td>1</td>\n",
              "    </tr>\n",
              "    <tr>\n",
              "      <th>1</th>\n",
              "      <td>1</td>\n",
              "    </tr>\n",
              "    <tr>\n",
              "      <th>2</th>\n",
              "      <td>1</td>\n",
              "    </tr>\n",
              "    <tr>\n",
              "      <th>3</th>\n",
              "      <td>0</td>\n",
              "    </tr>\n",
              "    <tr>\n",
              "      <th>4</th>\n",
              "      <td>0</td>\n",
              "    </tr>\n",
              "  </tbody>\n",
              "</table>\n",
              "</div><br><label><b>dtype:</b> int64</label>"
            ]
          },
          "metadata": {},
          "execution_count": 4
        }
      ],
      "source": [
        "y = prestamos['repaid']\n",
        "y.head()"
      ]
    },
    {
      "cell_type": "code",
      "execution_count": 5,
      "id": "a58bf370-2b61-4a67-8519-eabcd0837aff",
      "metadata": {
        "colab": {
          "base_uri": "https://localhost:8080/"
        },
        "id": "a58bf370-2b61-4a67-8519-eabcd0837aff",
        "outputId": "80f536b0-8912-40a3-a0f0-8aff2f3297f4"
      },
      "outputs": [
        {
          "output_type": "execute_result",
          "data": {
            "text/plain": [
              "array([[-1.20758742,  1.04653339,  0.28771526, ..., -0.6435994 ,\n",
              "         1.74122331, -0.19676047],\n",
              "       [-0.14851581,  0.37863978,  0.28771526, ...,  1.04920704,\n",
              "        -1.00854161, -0.19676047],\n",
              "       [-1.1239765 ,  1.77121147,  1.72995   , ..., -1.14934033,\n",
              "         1.3509341 , -0.19676047],\n",
              "       ...,\n",
              "       [ 1.94175711, -0.4055268 ,  0.28771526, ..., -1.34443327,\n",
              "        -0.92693568, -0.19676047],\n",
              "       [-1.1239765 , -0.4893515 ,  0.28771526, ..., -1.95222282,\n",
              "        -1.7536392 , -0.19676047],\n",
              "       [-0.84527345, -0.57588023, -0.43340212, ..., -0.74714873,\n",
              "        -0.02927049, -0.19676047]])"
            ]
          },
          "metadata": {},
          "execution_count": 5
        }
      ],
      "source": [
        "# Escalar los datos\n",
        "scaler = StandardScaler()\n",
        "X_scaled = scaler.fit_transform(X)\n",
        "X_scaled"
      ]
    },
    {
      "cell_type": "markdown",
      "id": "f3470c16-c191-4857-97d3-c2b24a758b95",
      "metadata": {
        "id": "f3470c16-c191-4857-97d3-c2b24a758b95"
      },
      "source": [
        "### Aplicar PCA"
      ]
    },
    {
      "cell_type": "code",
      "execution_count": 6,
      "id": "dd410c79-d466-414c-8e07-89e5ea436b14",
      "metadata": {
        "colab": {
          "base_uri": "https://localhost:8080/"
        },
        "id": "dd410c79-d466-414c-8e07-89e5ea436b14",
        "outputId": "b8decbde-8e8e-404a-faaa-905aaefc2ed1"
      },
      "outputs": [
        {
          "output_type": "stream",
          "name": "stdout",
          "text": [
            "Proporción de varianza explicada por cada componente: [0.24515346 0.14414767]\n",
            "Varianza explicada acumulada: [0.24515346 0.38930113]\n"
          ]
        }
      ],
      "source": [
        "# Inicializar PCA y especificar el número de componentes principales deseados\n",
        "pca = PCA(n_components=2)  # Elegimos 2 componentes para visualización\n",
        "X_pca = pca.fit_transform(X_scaled)\n",
        "\n",
        "# Mostrar la proporción de varianza explicada por cada componente\n",
        "explained_variance = pca.explained_variance_ratio_\n",
        "print(\"Proporción de varianza explicada por cada componente:\", explained_variance)\n",
        "print(\"Varianza explicada acumulada:\", np.cumsum(explained_variance))\n"
      ]
    },
    {
      "cell_type": "markdown",
      "id": "19f8b624-65e5-426e-9bb5-1ec35ef6f1d5",
      "metadata": {
        "id": "19f8b624-65e5-426e-9bb5-1ec35ef6f1d5"
      },
      "source": [
        "### Interpretación:\n",
        "\n",
        "- El primer componente principal (PC1) explica aproximadamente el 24.52% de la variabilidad total de los datos. Esto significa que casi una cuarta parte de la información en las variables originales puede representarse mediante este componente.\n",
        "- El segundo componente principal (PC2) explica alrededor del 14.41% de la variabilidad total. Este segundo componente captura información adicional no explicada por el primero, pero en menor medida."
      ]
    },
    {
      "cell_type": "markdown",
      "id": "10249749-2a8e-4969-a4d7-9b01b0fadb3e",
      "metadata": {
        "id": "10249749-2a8e-4969-a4d7-9b01b0fadb3e"
      },
      "source": [
        "### Especificar 6 componentes"
      ]
    },
    {
      "cell_type": "code",
      "execution_count": 7,
      "id": "e6574008-8185-4c4c-a962-f6eb1e2d71a1",
      "metadata": {
        "colab": {
          "base_uri": "https://localhost:8080/"
        },
        "id": "e6574008-8185-4c4c-a962-f6eb1e2d71a1",
        "outputId": "88b9fa2e-bf5c-47ea-8cd0-59739d663326"
      },
      "outputs": [
        {
          "output_type": "stream",
          "name": "stdout",
          "text": [
            "Proporción de varianza explicada por cada componente: [0.24515346 0.14414767 0.11874062 0.10357263 0.09809103 0.0849997 ]\n",
            "Varianza explicada acumulada: [0.24515346 0.38930113 0.50804175 0.61161438 0.70970541 0.79470511]\n"
          ]
        }
      ],
      "source": [
        "# Inicializar PCA y especificar el número de componentes principales deseados\n",
        "pca = PCA(n_components=6)  # Elegimos 2 componentes para visualización\n",
        "X_pca = pca.fit_transform(X_scaled)\n",
        "\n",
        "# Mostrar la proporción de varianza explicada por cada componente\n",
        "explained_variance = pca.explained_variance_ratio_\n",
        "print(\"Proporción de varianza explicada por cada componente:\", explained_variance)\n",
        "print(\"Varianza explicada acumulada:\", np.cumsum(explained_variance))"
      ]
    },
    {
      "cell_type": "markdown",
      "id": "81de908b-5ac8-4052-8831-66d8d7184dde",
      "metadata": {
        "id": "81de908b-5ac8-4052-8831-66d8d7184dde"
      },
      "source": [
        "### Interpretacion\n",
        " - La Varianza acumulada de los 6 componentes es del 79.47%.\n",
        " - El resto de la información (20.53%) está distribuida entre los componentes restantes.\n",
        " - Se puede trabajar con los primeros 6 componentes para reducir significativamente la dimensionalidad de los datos, conservando cerca del 80% de la información original.\n",
        " - Decidir cuántos componentes mantener depende del umbral de varianza acumulada que consideres suficiente, por ejmplo, Si el objetivo es conservar al menos el 90%, necesitariamos más componentes.\n",
        " -  **Cada componente principal es una combinación lineal de las variables originales, y los coeficientes asociados a estas variables**.\n",
        " -  Cada componente principal (PC1)es una suma ponderada de las variables originales (PC1 = aiX1, a2X2, a3X3.... anXn\n",
        " -  a1, a2, a3... an son los coeficientes o pesos que determinan cuánto contribuye cada variable x1, x2, x3 .. xn\n",
        " -  **El orden en el que aparecen las variables en el dataset no define directamente la estructura de los componentes**."
      ]
    },
    {
      "cell_type": "code",
      "execution_count": 8,
      "id": "39a21c20-7c81-4d33-870d-92b0e67a8057",
      "metadata": {
        "colab": {
          "base_uri": "https://localhost:8080/"
        },
        "id": "39a21c20-7c81-4d33-870d-92b0e67a8057",
        "outputId": "ab57e2f7-bf81-45f8-d81c-79d62b077760"
      },
      "outputs": [
        {
          "output_type": "stream",
          "name": "stdout",
          "text": [
            "Proporción de varianza explicada por cada componente: [0.24515346 0.14414767]\n",
            "Varianza explicada acumulada: [0.24515346 0.38930113]\n"
          ]
        }
      ],
      "source": [
        "# Inicializar PCA y especificar el número de componentes principales deseados\n",
        "pca = PCA(n_components=2)  # Elegimos 2 componentes para visualización\n",
        "X_pca = pca.fit_transform(X_scaled)\n",
        "\n",
        "# Mostrar la proporción de varianza explicada por cada componente\n",
        "explained_variance = pca.explained_variance_ratio_\n",
        "print(\"Proporción de varianza explicada por cada componente:\", explained_variance)\n",
        "print(\"Varianza explicada acumulada:\", np.cumsum(explained_variance))"
      ]
    },
    {
      "cell_type": "code",
      "execution_count": 9,
      "id": "29d37dcf-1b41-442c-a52d-339b88b70ff6",
      "metadata": {
        "colab": {
          "base_uri": "https://localhost:8080/"
        },
        "id": "29d37dcf-1b41-442c-a52d-339b88b70ff6",
        "outputId": "ae87439f-7469-40f1-f118-2a09587a1c03"
      },
      "outputs": [
        {
          "output_type": "execute_result",
          "data": {
            "text/plain": [
              "array([[ 0.85344502, -1.6831275 ],\n",
              "       [-0.02207211, -0.85012726],\n",
              "       [ 2.24372442, -1.27455551],\n",
              "       ...,\n",
              "       [-0.36959297,  1.06952436],\n",
              "       [-1.4505413 ,  2.32530246],\n",
              "       [-0.98820365,  0.24384409]])"
            ]
          },
          "metadata": {},
          "execution_count": 9
        }
      ],
      "source": [
        "X_pca"
      ]
    },
    {
      "cell_type": "code",
      "execution_count": 10,
      "id": "e44c757e-06fe-49db-bc42-a473188f82e5",
      "metadata": {
        "colab": {
          "base_uri": "https://localhost:8080/"
        },
        "id": "e44c757e-06fe-49db-bc42-a473188f82e5",
        "outputId": "20283740-fef4-4c6b-f834-e61cde6017cd"
      },
      "outputs": [
        {
          "output_type": "stream",
          "name": "stdout",
          "text": [
            "Contribución de variables a cada componente:\n",
            "     funded_amnt  int_rate  grade_code  purpose_code  addr_state_code  \\\n",
            "PC1     0.275325  0.594051    0.587323     -0.092401        -0.012857   \n",
            "PC2     0.477991 -0.003866    0.002497      0.012610         0.121172   \n",
            "\n",
            "     home_ownership_code  annual_inc       dti  revol_util  \\\n",
            "PC1             0.032429    0.068504  0.171456    0.423147   \n",
            "PC2            -0.523011    0.584807 -0.286579   -0.230418   \n",
            "\n",
            "     pub_rec_bankruptcies  \n",
            "PC1              0.058755  \n",
            "PC2             -0.076830  \n"
          ]
        }
      ],
      "source": [
        "# Coeficientes de las variables\n",
        "components_df = pd.DataFrame(\n",
        "    pca.components_,\n",
        "    columns=X.columns,\n",
        "    index=[f'PC{i+1}' for i in range(pca.n_components_)]\n",
        ")\n",
        "\n",
        "print(\"Contribución de variables a cada componente:\")\n",
        "print(components_df)"
      ]
    },
    {
      "cell_type": "markdown",
      "id": "fc968c7f-8757-4898-88cc-470170a43053",
      "metadata": {
        "id": "fc968c7f-8757-4898-88cc-470170a43053"
      },
      "source": [
        "### Determinar el número óptimo de componentes\n",
        "\n",
        "Para seleccionar el número óptimo de componentes principales, podemos graficar la varianza explicada acumulada:"
      ]
    },
    {
      "cell_type": "code",
      "execution_count": 10,
      "id": "984a69f5-e8cd-47b4-9808-f68d8cba74e9",
      "metadata": {
        "id": "984a69f5-e8cd-47b4-9808-f68d8cba74e9"
      },
      "outputs": [],
      "source": []
    },
    {
      "cell_type": "code",
      "execution_count": 15,
      "id": "28cae379-e421-48b2-827b-2d56625c0255",
      "metadata": {
        "colab": {
          "base_uri": "https://localhost:8080/",
          "height": 473
        },
        "id": "28cae379-e421-48b2-827b-2d56625c0255",
        "outputId": "28697d09-555e-4a4d-b1e9-244d4e15917a"
      },
      "outputs": [
        {
          "output_type": "display_data",
          "data": {
            "text/plain": [
              "<Figure size 640x480 with 1 Axes>"
            ],
            "image/png": "[encoded data removed]"
          },
          "metadata": {}
        }
      ],
      "source": [
        "# Inicializar PCA sin especificar el número de componentes\n",
        "pca_full = PCA()\n",
        "pca_full.fit(X_scaled)\n",
        "\n",
        "# Graficar la varianza acumulada\n",
        "plt.plot(np.cumsum(pca_full.explained_variance_ratio_))\n",
        "plt.xlabel('Número de Componentes Principales')\n",
        "plt.ylabel('Varianza Explicada Acumulada')\n",
        "plt.title('Selección del Número de Componentes')\n",
        "plt.grid()\n",
        "plt.show()\n"
      ]
    },
    {
      "cell_type": "code",
      "source": [],
      "metadata": {
        "id": "ny9T7-uaeIuQ"
      },
      "id": "ny9T7-uaeIuQ",
      "execution_count": null,
      "outputs": []
    },
    {
      "cell_type": "code",
      "execution_count": 16,
      "metadata": {
        "colab": {
          "base_uri": "https://localhost:8080/"
        },
        "outputId": "70993260-9fc3-453e-b53d-fdbff937c4dd",
        "id": "aoZJd_pteJhf"
      },
      "outputs": [
        {
          "output_type": "stream",
          "name": "stdout",
          "text": [
            "Proporción de varianza explicada por cada componente: [0.24515346 0.14414767 0.11874062 0.10357263 0.09809103 0.0849997\n",
            " 0.07801901 0.072922  ]\n",
            "Varianza explicada acumulada: [0.24515346 0.38930113 0.50804175 0.61161438 0.70970541 0.79470511\n",
            " 0.87272412 0.94564612]\n"
          ]
        }
      ],
      "source": [
        "# Inicializar PCA y especificar el número de componentes principales deseados\n",
        "pca = PCA(n_components=8)  # Elegimos 2 componentes para visualización\n",
        "X_pca = pca.fit_transform(X_scaled)\n",
        "\n",
        "# Mostrar la proporción de varianza explicada por cada componente\n",
        "explained_variance = pca.explained_variance_ratio_\n",
        "print(\"Proporción de varianza explicada por cada componente:\", explained_variance)\n",
        "print(\"Varianza explicada acumulada:\", np.cumsum(explained_variance))"
      ],
      "id": "aoZJd_pteJhf"
    },
    {
      "cell_type": "markdown",
      "id": "8b585cb3-e88e-44e0-a37d-4eb74c0afa64",
      "metadata": {
        "id": "8b585cb3-e88e-44e0-a37d-4eb74c0afa64"
      },
      "source": [
        "### Usar los componentes principales para modelado"
      ]
    },
    {
      "cell_type": "code",
      "execution_count": 17,
      "id": "91db45c5-ad32-4269-ac18-5ea58a3e4629",
      "metadata": {
        "colab": {
          "base_uri": "https://localhost:8080/"
        },
        "id": "91db45c5-ad32-4269-ac18-5ea58a3e4629",
        "outputId": "4dd8d7a3-d009-4b6a-bc94-cf0373ae82ff"
      },
      "outputs": [
        {
          "output_type": "stream",
          "name": "stdout",
          "text": [
            "Matriz Confusion:\n",
            "[[  21  909]\n",
            " [  45 4998]]\n",
            "\n",
            "              precision    recall  f1-score   support\n",
            "\n",
            "           0       0.32      0.02      0.04       930\n",
            "           1       0.85      0.99      0.91      5043\n",
            "\n",
            "    accuracy                           0.84      5973\n",
            "   macro avg       0.58      0.51      0.48      5973\n",
            "weighted avg       0.76      0.84      0.78      5973\n",
            "\n"
          ]
        }
      ],
      "source": [
        "# Dividir el dataset X_pca para entrenamiento y prueba\n",
        "X_train, X_test, y_train, y_test = train_test_split(X_pca, prestamos['repaid'],\n",
        "                                                    test_size=0.3, random_state=42)\n",
        "\n",
        "# Entrenar un modelo (por ejemplo, RandomForestClassifier)\n",
        "from sklearn.ensemble import RandomForestClassifier\n",
        "from sklearn.metrics import classification_report\n",
        "\n",
        "rfc1 = RandomForestClassifier(random_state=23)\n",
        "rfc1 = rfc1.fit(X_train, y_train)\n",
        "\n",
        "# Evaluación\n",
        "y_pred = rfc1.predict(X_test)\n",
        "\n",
        "from sklearn import metrics\n",
        "print(f'Matriz Confusion:\\n{metrics.confusion_matrix(y_test, y_pred)}')\n",
        "print(\"\")\n",
        "print(classification_report(y_test, y_pred))\n"
      ]
    },
    {
      "cell_type": "markdown",
      "id": "a1167bb0-a666-4177-9129-ae51c04e9d3e",
      "metadata": {
        "id": "a1167bb0-a666-4177-9129-ae51c04e9d3e"
      },
      "source": [
        "### Con balanceo de clases\n",
        "\n"
      ]
    },
    {
      "cell_type": "code",
      "execution_count": 18,
      "id": "af1294e9-c7ea-4037-a8a0-f562dc76c5f6",
      "metadata": {
        "colab": {
          "base_uri": "https://localhost:8080/"
        },
        "id": "af1294e9-c7ea-4037-a8a0-f562dc76c5f6",
        "outputId": "e896cd95-3ade-4883-d042-fbf065bce87b"
      },
      "outputs": [
        {
          "output_type": "stream",
          "name": "stdout",
          "text": [
            "Matriz Confusion:\n",
            "[[  15  915]\n",
            " [  28 5015]]\n",
            "\n",
            "              precision    recall  f1-score   support\n",
            "\n",
            "           0       0.35      0.02      0.03       930\n",
            "           1       0.85      0.99      0.91      5043\n",
            "\n",
            "    accuracy                           0.84      5973\n",
            "   macro avg       0.60      0.51      0.47      5973\n",
            "weighted avg       0.77      0.84      0.78      5973\n",
            "\n"
          ]
        }
      ],
      "source": [
        "# Dividir el dataset X_pca para entrenamiento y prueba\n",
        "X_train, X_test, y_train, y_test = train_test_split(X_pca, prestamos['repaid'],\n",
        "                                                    test_size=0.3, random_state=42)\n",
        "\n",
        "# Entrenar un modelo (por ejemplo, RandomForestClassifier)\n",
        "from sklearn.ensemble import RandomForestClassifier\n",
        "from sklearn.metrics import classification_report\n",
        "\n",
        "rfc1 = RandomForestClassifier(random_state=23, class_weight='balanced')\n",
        "rfc1 = rfc1.fit(X_train, y_train)\n",
        "\n",
        "# Evaluación\n",
        "y_pred = rfc1.predict(X_test)\n",
        "\n",
        "from sklearn import metrics\n",
        "print(f'Matriz Confusion:\\n{metrics.confusion_matrix(y_test, y_pred)}')\n",
        "print(\"\")\n",
        "print(classification_report(y_test, y_pred))"
      ]
    },
    {
      "cell_type": "markdown",
      "id": "761c40a7-898f-4c3c-ae31-178692937d66",
      "metadata": {
        "id": "761c40a7-898f-4c3c-ae31-178692937d66"
      },
      "source": [
        "### Balanceo de clase y max_depth"
      ]
    },
    {
      "cell_type": "code",
      "execution_count": 19,
      "id": "51fb7940-7af8-4b7b-a021-a58a1eaf8705",
      "metadata": {
        "colab": {
          "base_uri": "https://localhost:8080/"
        },
        "id": "51fb7940-7af8-4b7b-a021-a58a1eaf8705",
        "outputId": "c8e456ca-a603-4c8e-a835-9aaf343f40e2"
      },
      "outputs": [
        {
          "output_type": "stream",
          "name": "stdout",
          "text": [
            "Matriz Confusion:\n",
            "[[ 409  358]\n",
            " [1295 2915]]\n",
            "\n",
            "              precision    recall  f1-score   support\n",
            "\n",
            "           0       0.24      0.53      0.33       767\n",
            "           1       0.89      0.69      0.78      4210\n",
            "\n",
            "    accuracy                           0.67      4977\n",
            "   macro avg       0.57      0.61      0.56      4977\n",
            "weighted avg       0.79      0.67      0.71      4977\n",
            "\n"
          ]
        }
      ],
      "source": [
        "# Dividir el dataset X_pca para entrenamiento y prueba\n",
        "X_train, X_test, y_train, y_test = train_test_split(X_pca, prestamos['repaid'],\n",
        "                                                     random_state=42)\n",
        "\n",
        "# Entrenar un modelo (por ejemplo, RandomForestClassifier)\n",
        "from sklearn.ensemble import RandomForestClassifier\n",
        "from sklearn.metrics import classification_report\n",
        "\n",
        "rfc1 = RandomForestClassifier(max_depth=7, random_state=23, class_weight='balanced')\n",
        "rfc1 = rfc1.fit(X_train, y_train)\n",
        "\n",
        "# Evaluación\n",
        "y_pred = rfc1.predict(X_test)\n",
        "from sklearn import metrics\n",
        "print(f'Matriz Confusion:\\n{metrics.confusion_matrix(y_test, y_pred)}')\n",
        "print(\"\")\n",
        "print(classification_report(y_test, y_pred))"
      ]
    },
    {
      "cell_type": "code",
      "execution_count": 14,
      "id": "157df648-6ecb-4fde-802d-4217136be346",
      "metadata": {
        "id": "157df648-6ecb-4fde-802d-4217136be346"
      },
      "outputs": [],
      "source": []
    },
    {
      "cell_type": "code",
      "source": [],
      "metadata": {
        "id": "Z-osk0qodDXh"
      },
      "id": "Z-osk0qodDXh",
      "execution_count": 14,
      "outputs": []
    },
    {
      "cell_type": "code",
      "source": [],
      "metadata": {
        "id": "7ZI48lRYdDag"
      },
      "id": "7ZI48lRYdDag",
      "execution_count": 14,
      "outputs": []
    }
  ],
  "metadata": {
    "kernelspec": {
      "display_name": "Python [conda env:base] *",
      "language": "python",
      "name": "conda-base-py"
    },
    "language_info": {
      "codemirror_mode": {
        "name": "ipython",
        "version": 3
      },
      "file_extension": ".py",
      "mimetype": "text/x-python",
      "name": "python",
      "nbconvert_exporter": "python",
      "pygments_lexer": "ipython3",
      "version": "3.11.5"
    },
    "colab": {
      "provenance": []
    }
  },
  "nbformat": 4,
  "nbformat_minor": 5
}